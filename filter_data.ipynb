{
 "cells": [
  {
   "cell_type": "code",
   "execution_count": 36,
   "id": "3cea8a55",
   "metadata": {},
   "outputs": [],
   "source": [
    "import pandas as pd\n",
    "import  numpy as np\n",
    "import matplotlib\n",
    "from tqdm import tqdm\n",
    "import ray"
   ]
  },
  {
   "cell_type": "code",
   "execution_count": 37,
   "id": "e8bc70c8",
   "metadata": {},
   "outputs": [],
   "source": [
    "df = pd.read_csv('distinct_subject_features.csv', dtype={\"value\": str})"
   ]
  },
  {
   "cell_type": "code",
   "execution_count": 38,
   "id": "003414b6",
   "metadata": {},
   "outputs": [],
   "source": [
    "df = df[pd.to_numeric(df['value'], errors='coerce').notnull()]\n",
    "df['value'] = pd.to_numeric(df[\"value\"], downcast=\"float\")"
   ]
  },
  {
   "cell_type": "code",
   "execution_count": 39,
   "id": "8752c031",
   "metadata": {},
   "outputs": [],
   "source": [
    "uniq_subjects = df.subject_id.unique()"
   ]
  },
  {
   "cell_type": "code",
   "execution_count": 40,
   "id": "6e8f2c3d",
   "metadata": {},
   "outputs": [
    {
     "data": {
      "text/plain": [
       "Index(['subject_id', 'anchor_age', 'gender', 'label', 'value', 'valueuom',\n",
       "       'flag'],\n",
       "      dtype='object')"
      ]
     },
     "execution_count": 40,
     "metadata": {},
     "output_type": "execute_result"
    }
   ],
   "source": [
    "df.columns"
   ]
  },
  {
   "cell_type": "code",
   "execution_count": null,
   "id": "7ae0bef8",
   "metadata": {},
   "outputs": [
    {
     "name": "stderr",
     "output_type": "stream",
     "text": [
      " 43%|██████████████████████████████████                                              | 8999/21167 [04:09<01:58, 103.10it/s]"
     ]
    }
   ],
   "source": [
    "set_of_labels = set()\n",
    "for subject_id in tqdm(uniq_subjects):\n",
    "    uniq_labels = set(df[df['subject_id']==subject_id].label.unique())\n",
    "    if len(set_of_labels) == 0:\n",
    "        set_of_labels = uniq_labels\n",
    "    else:\n",
    "        set_of_labels = set_of_labels.intersection(uniq_labels)"
   ]
  },
  {
   "cell_type": "code",
   "execution_count": null,
   "id": "e71dbd89",
   "metadata": {},
   "outputs": [],
   "source": []
  }
 ],
 "metadata": {
  "kernelspec": {
   "display_name": "Python 3 (ipykernel)",
   "language": "python",
   "name": "python3"
  },
  "language_info": {
   "codemirror_mode": {
    "name": "ipython",
    "version": 3
   },
   "file_extension": ".py",
   "mimetype": "text/x-python",
   "name": "python",
   "nbconvert_exporter": "python",
   "pygments_lexer": "ipython3",
   "version": "3.8.10"
  }
 },
 "nbformat": 4,
 "nbformat_minor": 5
}
